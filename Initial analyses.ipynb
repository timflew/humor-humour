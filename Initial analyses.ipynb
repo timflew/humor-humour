{
 "cells": [
  {
   "cell_type": "code",
   "execution_count": 199,
   "metadata": {
    "collapsed": true
   },
   "outputs": [],
   "source": [
    "import os\n",
    "import numpy as np\n",
    "from sklearn.feature_extraction.text import TfidfVectorizer\n",
    "numpy.random.seed(7)"
   ]
  },
  {
   "cell_type": "code",
   "execution_count": null,
   "metadata": {
    "collapsed": false
   },
   "outputs": [],
   "source": [
    "\n",
    "from keras.datasets import imdb\n",
    "top_words = 5000\n",
    "(X_train, y_train), (X_test, y_test) = imdb.load_data(nb_words=top_words)\n",
    "# truncate and pad input sequences\n",
    "max_review_length = 500"
   ]
  },
  {
   "cell_type": "code",
   "execution_count": 189,
   "metadata": {
    "collapsed": true
   },
   "outputs": [],
   "source": [
    "from keras.preprocessing import sequence\n",
    "X_train2 = sequence.pad_sequences(X_train, maxlen=max_review_length)"
   ]
  },
  {
   "cell_type": "code",
   "execution_count": 198,
   "metadata": {
    "collapsed": false
   },
   "outputs": [
    {
     "data": {
      "text/plain": [
       "(25000,)"
      ]
     },
     "execution_count": 198,
     "metadata": {},
     "output_type": "execute_result"
    }
   ],
   "source": [
    "np.shape(X_train)"
   ]
  },
  {
   "cell_type": "code",
   "execution_count": 197,
   "metadata": {
    "collapsed": false
   },
   "outputs": [
    {
     "data": {
      "text/plain": [
       "(25000, 500)"
      ]
     },
     "execution_count": 197,
     "metadata": {},
     "output_type": "execute_result"
    }
   ],
   "source": [
    "np.shape(X_train2)"
   ]
  },
  {
   "cell_type": "code",
   "execution_count": 185,
   "metadata": {
    "collapsed": true
   },
   "outputs": [],
   "source": [
    "from keras.models import Sequential\n",
    "from keras.layers import Dense,LSTM, Dropout\n",
    "import tensorflow"
   ]
  },
  {
   "cell_type": "code",
   "execution_count": 158,
   "metadata": {
    "collapsed": true
   },
   "outputs": [],
   "source": [
    "us_folders=['office_us']\n",
    "uk_folders=['office_uk','monty_python']"
   ]
  },
  {
   "cell_type": "markdown",
   "metadata": {},
   "source": [
    "Read texts, use TF-IDF to identify and then remove show-specific pronouns that distinguish. Monty Python is good because it lacks recurring characters or themes the model might pick up on"
   ]
  },
  {
   "cell_type": "code",
   "execution_count": 159,
   "metadata": {
    "collapsed": false
   },
   "outputs": [],
   "source": [
    "parse_size=250"
   ]
  },
  {
   "cell_type": "code",
   "execution_count": 160,
   "metadata": {
    "collapsed": false
   },
   "outputs": [],
   "source": [
    "uk_data=[]\n",
    "for fold_name in uk_folders:\n",
    "    uk_fold=os.path.join('data',fold_name)\n",
    "    curr_files=os.listdir(uk_fold)\n",
    "    for fname in curr_files:\n",
    "        curr_fname=os.path.join(uk_fold,fname)\n",
    "        with open(curr_fname,'rb') as curr_f:\n",
    "            temp=curr_f.read().replace('\\n',' ')\n",
    "            uk_curr_text=unicode(temp.decode('utf-8'))\n",
    "            uk_data.append(uk_curr_text)\n",
    "        "
   ]
  },
  {
   "cell_type": "code",
   "execution_count": 161,
   "metadata": {
    "collapsed": false
   },
   "outputs": [
    {
     "data": {
      "text/plain": [
       "367"
      ]
     },
     "execution_count": 161,
     "metadata": {},
     "output_type": "execute_result"
    }
   ],
   "source": [
    "sum([len(i)/(parse_size*5) for i in uk_data])"
   ]
  },
  {
   "cell_type": "code",
   "execution_count": 166,
   "metadata": {
    "collapsed": false
   },
   "outputs": [],
   "source": [
    "us_data=[]\n",
    "for fold_name in us_folders:\n",
    "    us_fold=os.path.join('data',fold_name)\n",
    "    curr_files=os.listdir(us_fold)\n",
    "    for fname in curr_files:\n",
    "        curr_fname=os.path.join(us_fold,fname)\n",
    "        with open(curr_fname,'rb') as curr_f:\n",
    "            temp=curr_f.read().replace('\\n',' ')\n",
    "            us_curr_text=unicode(temp.decode('utf-8'))\n",
    "            us_data.append(us_curr_text)"
   ]
  },
  {
   "cell_type": "code",
   "execution_count": 167,
   "metadata": {
    "collapsed": false
   },
   "outputs": [
    {
     "data": {
      "text/plain": [
       "611"
      ]
     },
     "execution_count": 167,
     "metadata": {},
     "output_type": "execute_result"
    }
   ],
   "source": [
    "sum([len(i)/(parse_size*5) for i in us_data])"
   ]
  },
  {
   "cell_type": "code",
   "execution_count": 181,
   "metadata": {
    "collapsed": false
   },
   "outputs": [],
   "source": [
    "tfidf_vectorizer = TfidfVectorizer(max_df=0.95, min_df=1,\n",
    "                                   max_features=75,\n",
    "                                   stop_words='english')\n",
    "tfidf_values=tfidf_vectorizer.fit_transform([' '.join(us_data),' '.join(uk_data)])\n",
    "tfidf_words=tfidf_vectorizer.get_feature_names()"
   ]
  },
  {
   "cell_type": "code",
   "execution_count": 182,
   "metadata": {
    "collapsed": false
   },
   "outputs": [
    {
     "data": {
      "text/plain": [
       "[u'aah',\n",
       " u'angela',\n",
       " u'awesome',\n",
       " u'belsnickel',\n",
       " u'blancmange',\n",
       " u'bloke',\n",
       " u'brent',\n",
       " u'california',\n",
       " u'cathy',\n",
       " u'cece',\n",
       " u'ceo',\n",
       " u'cock',\n",
       " u'code',\n",
       " u'cookies',\n",
       " u'creed',\n",
       " u'darryl',\n",
       " u'dunder',\n",
       " u'dwight',\n",
       " u'erin',\n",
       " u'finch',\n",
       " u'gabe',\n",
       " u'gareth',\n",
       " u'gervaise',\n",
       " u'gym',\n",
       " u'halpert',\n",
       " u'honey',\n",
       " u'insane',\n",
       " u'jan',\n",
       " u'keith',\n",
       " u'kelly',\n",
       " u'kinda',\n",
       " u'lice',\n",
       " u'meredith',\n",
       " u'mifflin',\n",
       " u'mose',\n",
       " u'mural',\n",
       " u'narrator',\n",
       " u'nellie',\n",
       " u'nigel',\n",
       " u'nope',\n",
       " u'oggy',\n",
       " u'ohh',\n",
       " u'ok',\n",
       " u'oliver',\n",
       " u'ou',\n",
       " u'pam',\n",
       " u'pens',\n",
       " u'phillip',\n",
       " u'philly',\n",
       " u'phyllis',\n",
       " u'picasso',\n",
       " u'pies',\n",
       " u'pool',\n",
       " u'prank',\n",
       " u'quit',\n",
       " u'robert',\n",
       " u'sabre',\n",
       " u'schrute',\n",
       " u'scranton',\n",
       " u'senator',\n",
       " u'sketch',\n",
       " u'slough',\n",
       " u'stanley',\n",
       " u'store',\n",
       " u'swindon',\n",
       " u'television',\n",
       " u'text',\n",
       " u'tha',\n",
       " u'tim',\n",
       " u'toby',\n",
       " u'trip',\n",
       " u'val',\n",
       " u'vivian',\n",
       " u'von',\n",
       " u'wernham']"
      ]
     },
     "execution_count": 182,
     "metadata": {},
     "output_type": "execute_result"
    }
   ],
   "source": [
    "tfidf_words"
   ]
  },
  {
   "cell_type": "code",
   "execution_count": null,
   "metadata": {
    "collapsed": true
   },
   "outputs": [],
   "source": []
  }
 ],
 "metadata": {
  "kernelspec": {
   "display_name": "Python 2",
   "language": "python",
   "name": "python2"
  },
  "language_info": {
   "codemirror_mode": {
    "name": "ipython",
    "version": 2
   },
   "file_extension": ".py",
   "mimetype": "text/x-python",
   "name": "python",
   "nbconvert_exporter": "python",
   "pygments_lexer": "ipython2",
   "version": "2.7.12"
  }
 },
 "nbformat": 4,
 "nbformat_minor": 0
}

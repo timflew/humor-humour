{
 "cells": [
  {
   "cell_type": "code",
   "execution_count": 69,
   "metadata": {
    "collapsed": true
   },
   "outputs": [],
   "source": [
    "import os\n",
    "from sklearn.feature_extraction.text import TfidfVectorizer"
   ]
  },
  {
   "cell_type": "code",
   "execution_count": 158,
   "metadata": {
    "collapsed": true
   },
   "outputs": [],
   "source": [
    "us_folders=['office_us']\n",
    "uk_folders=['office_uk','monty_python']"
   ]
  },
  {
   "cell_type": "markdown",
   "metadata": {},
   "source": [
    "Read texts, use TF-IDF to identify and then remove show-specific pronouns that distinguish"
   ]
  },
  {
   "cell_type": "code",
   "execution_count": 159,
   "metadata": {
    "collapsed": false
   },
   "outputs": [],
   "source": [
    "parse_size=250"
   ]
  },
  {
   "cell_type": "code",
   "execution_count": 160,
   "metadata": {
    "collapsed": false
   },
   "outputs": [],
   "source": [
    "uk_data=[]\n",
    "for fold_name in uk_folders:\n",
    "    uk_fold=os.path.join('data',fold_name)\n",
    "    curr_files=os.listdir(uk_fold)\n",
    "    for fname in curr_files:\n",
    "        curr_fname=os.path.join(uk_fold,fname)\n",
    "        with open(curr_fname,'rb') as curr_f:\n",
    "            temp=curr_f.read().replace('\\n',' ')\n",
    "            uk_curr_text=unicode(temp.decode('utf-8'))\n",
    "            uk_data.append(uk_curr_text)\n",
    "        "
   ]
  },
  {
   "cell_type": "code",
   "execution_count": 161,
   "metadata": {
    "collapsed": false
   },
   "outputs": [
    {
     "data": {
      "text/plain": [
       "367"
      ]
     },
     "execution_count": 161,
     "metadata": {},
     "output_type": "execute_result"
    }
   ],
   "source": [
    "sum([len(i)/(parse_size*5) for i in uk_data])"
   ]
  },
  {
   "cell_type": "code",
   "execution_count": 148,
   "metadata": {
    "collapsed": false
   },
   "outputs": [],
   "source": [
    "us_data=[]\n",
    "for fold_name in us_folders:\n",
    "    us_fold=os.path.join('data',fold_name)\n",
    "    curr_files=os.listdir(us_fold)\n",
    "    for fname in curr_files:\n",
    "        curr_fname=os.path.join(us_fold,fname)\n",
    "        with open(curr_fname,'rb') as curr_f:\n",
    "            temp=curr_f.read().replace('\\n',' ')\n",
    "            us_curr_text=unicode(temp.decode('utf-8'))\n",
    "            us_data.append(us_curr_text)"
   ]
  },
  {
   "cell_type": "code",
   "execution_count": 162,
   "metadata": {
    "collapsed": false
   },
   "outputs": [
    {
     "data": {
      "text/plain": [
       "321"
      ]
     },
     "execution_count": 162,
     "metadata": {},
     "output_type": "execute_result"
    }
   ],
   "source": [
    "sum([len(i)/(parse_size*5) for i in us_data])"
   ]
  },
  {
   "cell_type": "code",
   "execution_count": 164,
   "metadata": {
    "collapsed": false
   },
   "outputs": [],
   "source": [
    "tfidf_vectorizer = TfidfVectorizer(max_df=0.95, min_df=1,\n",
    "                                   max_features=200,\n",
    "                                   stop_words='english')\n",
    "tfidf_values=tfidf_vectorizer.fit_transform([' '.join(us_data),' '.join(uk_data)])\n",
    "tfidf_words=tfidf_vectorizer.get_feature_names()"
   ]
  },
  {
   "cell_type": "code",
   "execution_count": 165,
   "metadata": {
    "collapsed": false
   },
   "outputs": [
    {
     "data": {
      "text/plain": [
       "[u'aah',\n",
       " u'albatross',\n",
       " u'aldridge',\n",
       " u'allow',\n",
       " u'angela',\n",
       " u'angus',\n",
       " u'apart',\n",
       " u'arse',\n",
       " u'athlead',\n",
       " u'audition',\n",
       " u'awesome',\n",
       " u'aye',\n",
       " u'bagpipes',\n",
       " u'baseball',\n",
       " u'bbc',\n",
       " u'belsnickel',\n",
       " u'bicycle',\n",
       " u'bitte',\n",
       " u'blake',\n",
       " u'blancmange',\n",
       " u'blimey',\n",
       " u'bloke',\n",
       " u'bloody',\n",
       " u'bolton',\n",
       " u'brent',\n",
       " u'cappella',\n",
       " u'cardinal',\n",
       " u'cece',\n",
       " u'champ',\n",
       " u'chartered',\n",
       " u'cheering',\n",
       " u'chris',\n",
       " u'clears',\n",
       " u'clock',\n",
       " u'cock',\n",
       " u'colonel',\n",
       " u'complain',\n",
       " u'constable',\n",
       " u'cornell',\n",
       " u'crap',\n",
       " u'creed',\n",
       " u'cross',\n",
       " u'cupcakes',\n",
       " u'darryl',\n",
       " u'das',\n",
       " u'dawn',\n",
       " u'ding',\n",
       " u'drum',\n",
       " u'dub',\n",
       " u'dull',\n",
       " u'dunder',\n",
       " u'dwight',\n",
       " u'eddie',\n",
       " u'edward',\n",
       " u'england',\n",
       " u'eric',\n",
       " u'erin',\n",
       " u'expedition',\n",
       " u'fanfare',\n",
       " u'finch',\n",
       " u'finchy',\n",
       " u'football',\n",
       " u'footsteps',\n",
       " u'fox',\n",
       " u'frampton',\n",
       " u'frog',\n",
       " u'frontal',\n",
       " u'galaxy',\n",
       " u'gareth',\n",
       " u'ge',\n",
       " u'general',\n",
       " u'gervaise',\n",
       " u'gotten',\n",
       " u'grain',\n",
       " u'guh',\n",
       " u'halpert',\n",
       " u'harold',\n",
       " u'harry',\n",
       " u'heap',\n",
       " u'hiya',\n",
       " u'hogg',\n",
       " u'honey',\n",
       " u'hun',\n",
       " u'insane',\n",
       " u'inspector',\n",
       " u'ive',\n",
       " u'jan',\n",
       " u'jennifer',\n",
       " u'jokes',\n",
       " u'jolly',\n",
       " u'jones',\n",
       " u'jr',\n",
       " u'jus',\n",
       " u'keenan',\n",
       " u'keith',\n",
       " u'kelly',\n",
       " u'ken',\n",
       " u'kennels',\n",
       " u'kick',\n",
       " u'kilts',\n",
       " u'kinda',\n",
       " u'lad',\n",
       " u'larch',\n",
       " u'lately',\n",
       " u'laughter',\n",
       " u'leader',\n",
       " u'lice',\n",
       " u'maa',\n",
       " u'madam',\n",
       " u'main',\n",
       " u'mama',\n",
       " u'marketing',\n",
       " u'mary',\n",
       " u'mental',\n",
       " u'meredith',\n",
       " u'michelle',\n",
       " u'mifflin',\n",
       " u'mighty',\n",
       " u'mose',\n",
       " u'mum',\n",
       " u'mural',\n",
       " u'named',\n",
       " u'narrator',\n",
       " u'neil',\n",
       " u'nellie',\n",
       " u'nelson',\n",
       " u'nigel',\n",
       " u'nope',\n",
       " u'oggy',\n",
       " u'ohh',\n",
       " u'ok',\n",
       " u'oliver',\n",
       " u'ou',\n",
       " u'pam',\n",
       " u'parrot',\n",
       " u'passion',\n",
       " u'pennsylvania',\n",
       " u'pens',\n",
       " u'perfectly',\n",
       " u'philadelphia',\n",
       " u'phillip',\n",
       " u'philly',\n",
       " u'phyllis',\n",
       " u'picasso',\n",
       " u'pies',\n",
       " u'plop',\n",
       " u'podgorny',\n",
       " u'pointed',\n",
       " u'prank',\n",
       " u'quiz',\n",
       " u'racist',\n",
       " u'raspberry',\n",
       " u'redundancies',\n",
       " u'ricky',\n",
       " u'rob',\n",
       " u'robert',\n",
       " u'rolf',\n",
       " u'ron',\n",
       " u'rubbish',\n",
       " u'schrute',\n",
       " u'scotsman',\n",
       " u'scranton',\n",
       " u'senator',\n",
       " u'shabooya',\n",
       " u'shed',\n",
       " u'sheds',\n",
       " u'shower',\n",
       " u'simply',\n",
       " u'sketch',\n",
       " u'slough',\n",
       " u'smith',\n",
       " u'soldier',\n",
       " u'stanley',\n",
       " u'stools',\n",
       " u'store',\n",
       " u'sweater',\n",
       " u'swindon',\n",
       " u'television',\n",
       " u'telly',\n",
       " u'terribly',\n",
       " u'tha',\n",
       " u'thay',\n",
       " u'tiger',\n",
       " u'tim',\n",
       " u'toby',\n",
       " u'tractor',\n",
       " u'trip',\n",
       " u'und',\n",
       " u'val',\n",
       " u'vercotti',\n",
       " u'vivian',\n",
       " u'von',\n",
       " u'wan',\n",
       " u'warning',\n",
       " u'wash',\n",
       " u'wernham',\n",
       " u'wet',\n",
       " u'wilkins',\n",
       " u'wilson',\n",
       " u'wimbledon']"
      ]
     },
     "execution_count": 165,
     "metadata": {},
     "output_type": "execute_result"
    }
   ],
   "source": [
    "tfidf_words[]"
   ]
  },
  {
   "cell_type": "code",
   "execution_count": null,
   "metadata": {
    "collapsed": true
   },
   "outputs": [],
   "source": []
  }
 ],
 "metadata": {
  "kernelspec": {
   "display_name": "Python 2",
   "language": "python",
   "name": "python2"
  },
  "language_info": {
   "codemirror_mode": {
    "name": "ipython",
    "version": 2
   },
   "file_extension": ".py",
   "mimetype": "text/x-python",
   "name": "python",
   "nbconvert_exporter": "python",
   "pygments_lexer": "ipython2",
   "version": "2.7.12"
  }
 },
 "nbformat": 4,
 "nbformat_minor": 0
}

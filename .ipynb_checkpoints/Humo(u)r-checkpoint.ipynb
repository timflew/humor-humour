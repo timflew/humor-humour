{
 "cells": [
  {
   "cell_type": "markdown",
   "metadata": {},
   "source": [
    "# Humo(u)r\n",
    "\n",
    "\n",
    "**\"You know that scene in Animal House, it is a fellow playing folk music on a guitar, and John Belushi picks up the guitar and destroys it...Well, the British comedian would want to play a folk singer. We want to play the failure.\"**\n",
    "\n",
    "--Stephen Fry (<a href='http://lybio.net/tag/stephen-fry-on-american-vs-british-comedy-transcription/'>interview+transcript</a>)\n",
    "\n",
    "The differences between British and American humor can be hard to pin down. As Stephen Fry has captured in the quote above, generally British comedy has a grim fatalism that contrasts with American optimism. Despite these differences, many British shows have developed American cult followings (Monty Python, Coupling, Fawlty Towers) and have even inspired successful crossovers, most famously The Office. \n",
    "\n",
    "To help me find more British-y comedies, I wanted to figure out whether I could train a an LSTM recurrent neural network to distinguish British from American humor. To minimize the influence of topic, I'll be training the model on transcripts from the UK and US Office. Theoretically, this trained neural network could be used to recommend American Anglophiles new English TV shows that have a British sense of humor (and the reverse, though I've personally never met any British Americanophiles ;) ) or be extended to making recommendations based on other styles of writing.\n",
    "\n",
    "\n",
    "Kudos to this <a href='https://www.youtube.com/watch?v=Zyv4jGWEzxY&t=6s'>Youtube criticism video</a> for the initial inspiration, Cory Stephenson for advice on using LSTMs and this super helpful <a href='http://machinelearningmastery.com/sequence-classification-lstm-recurrent-neural-networks-python-keras/'>tutorial on creating LSTMs in Keras</a>"
   ]
  },
  {
   "cell_type": "markdown",
   "metadata": {},
   "source": [
    "# Game plan\n",
    "Ok so the game plan for me then is to\n",
    "\n",
    "1. Obtain a corpus of British and American documents to train the neural network on.\n",
    "1. Identify and remove unique words in the text (slang, names, places, various entities) that could be used to distinguish shows and replace them with a generic identifier (xxNamexx). This is so the network doesn't just learn to focus on particular characters, places, etc. and instead extracts the shows' senses of humor. \n",
    "2. Format the text into workable chunks. Chunks of size 200 words should be good\n",
    "3. Train neural networks to predict whether a show is British or American\n",
    "4. See whether the network can make accurate predictions about other TV shows"
   ]
  },
  {
   "cell_type": "markdown",
   "metadata": {},
   "source": [
    "I'll start by loading some basic packages"
   ]
  },
  {
   "cell_type": "code",
   "execution_count": 102,
   "metadata": {
    "collapsed": false
   },
   "outputs": [],
   "source": [
    "%matplotlib inline\n",
    "import os\n",
    "import numpy as np\n",
    "import pandas as pd\n",
    "\n",
    "import pickle as pkl\n",
    "import matplotlib.pyplot as plt\n",
    "import seaborn as sns\n",
    "sns.set_style('whitegrid')\n",
    "\n",
    "np.random.seed(7)"
   ]
  },
  {
   "cell_type": "markdown",
   "metadata": {},
   "source": [
    "# 1. Obtain Training Corpus"
   ]
  },
  {
   "cell_type": "markdown",
   "metadata": {},
   "source": [
    "Because British shows are <a href='https://www.youtube.com/watch?v=OT7TR3Td6KQ'>notoriously short</a>, I'll be combining The Office UK with Peep Show to get some extra data"
   ]
  },
  {
   "cell_type": "markdown",
   "metadata": {},
   "source": [
    "* http://www.springfieldspringfield.co.uk/episode_scripts.php?tv-show=the-office-us\n",
    "* http://www.springfieldspringfield.co.uk/episode_scripts.php?tv-show=the-office-uk\n",
    "* http://www.springfieldspringfield.co.uk/episode_scripts.php?tv-show=peep-show-2003"
   ]
  },
  {
   "cell_type": "code",
   "execution_count": 3,
   "metadata": {
    "collapsed": true
   },
   "outputs": [],
   "source": [
    "us_folders=['office_us']\n",
    "uk_folders=['office_uk','peep_show']"
   ]
  },
  {
   "cell_type": "markdown",
   "metadata": {},
   "source": [
    "And let's try to make sure the classifier doesn't just capitalize on differences in English vs. American spelling"
   ]
  },
  {
   "cell_type": "markdown",
   "metadata": {},
   "source": [
    "How long should the passages be?"
   ]
  },
  {
   "cell_type": "code",
   "execution_count": 5,
   "metadata": {
    "collapsed": false
   },
   "outputs": [],
   "source": [
    "parse_size=200"
   ]
  },
  {
   "cell_type": "code",
   "execution_count": 6,
   "metadata": {
    "collapsed": false
   },
   "outputs": [],
   "source": [
    "uk_data=[]\n",
    "uk_show=[]\n",
    "for fold_name in uk_folders:\n",
    "    uk_fold=os.path.join('data',fold_name)\n",
    "    curr_files=os.listdir(uk_fold)\n",
    "    curr_files=[i for i in curr_files if i[-3:]=='txt']\n",
    "    for fname in curr_files:\n",
    "        curr_fname=os.path.join(uk_fold,fname)\n",
    "        with open(curr_fname,'rb') as curr_f:\n",
    "            temp=replace_strings(curr_f.read().lower())\n",
    "            uk_curr_text=unicode(temp.decode('utf-8'))\n",
    "            uk_show.append(fold_name)\n",
    "            uk_data.append(uk_curr_text)\n",
    "        "
   ]
  },
  {
   "cell_type": "code",
   "execution_count": 7,
   "metadata": {
    "collapsed": false
   },
   "outputs": [
    {
     "data": {
      "text/plain": [
       "1300"
      ]
     },
     "execution_count": 7,
     "metadata": {},
     "output_type": "execute_result"
    }
   ],
   "source": [
    "sum([len(i)/(parse_size*5) for i in uk_data]) # 5 is ~ average word length"
   ]
  },
  {
   "cell_type": "code",
   "execution_count": 8,
   "metadata": {
    "collapsed": false
   },
   "outputs": [],
   "source": [
    "us_data=[]\n",
    "us_show=[]\n",
    "for fold_name in us_folders:\n",
    "    us_fold=os.path.join('data',fold_name)\n",
    "    curr_files=os.listdir(us_fold)\n",
    "    curr_files=[i for i in curr_files if i[-3:]=='txt']    \n",
    "    for fname in curr_files:\n",
    "        curr_fname=os.path.join(us_fold,fname)\n",
    "        with open(curr_fname,'rb') as curr_f:\n",
    "            temp=replace_strings(curr_f.read().lower())\n",
    "            us_curr_text=unicode(temp.decode('utf-8'))\n",
    "            us_show.append(fold_name)\n",
    "            us_data.append(us_curr_text)"
   ]
  },
  {
   "cell_type": "code",
   "execution_count": 9,
   "metadata": {
    "collapsed": false
   },
   "outputs": [
    {
     "data": {
      "text/plain": [
       "1516"
      ]
     },
     "execution_count": 9,
     "metadata": {},
     "output_type": "execute_result"
    }
   ],
   "source": [
    "sum([len(i)/(parse_size*5) for i in us_data])"
   ]
  },
  {
   "cell_type": "markdown",
   "metadata": {},
   "source": [
    "# 2. Remove jargon"
   ]
  },
  {
   "cell_type": "markdown",
   "metadata": {},
   "source": [
    "And now of course I don't want the network to just pick out different words used by the shows--I want it to identify American and British wordplay. So first I'll normalize any spelling or slang differences using the replace_strings() function"
   ]
  },
  {
   "cell_type": "code",
   "execution_count": 4,
   "metadata": {
    "collapsed": true
   },
   "outputs": [],
   "source": [
    "def replace_strings(x):\n",
    "    replace_dic={\" '\":\" \", \\\n",
    "                \"okay\":\"ok\",\\\n",
    "                 \"Okay\":\"ok\",\\\n",
    "                \"\\n\":\" \",\\\n",
    "                \"apologise\":\"apologize\",\\\n",
    "                \"humour\":\"humor\",\\\n",
    "                 \"colour\":\"color\",\\\n",
    "                 \"flavour\":\"flavor\",\\\n",
    "                 \"favour\":\"favor\",\\\n",
    "                 \"labour\":\"labor\",\\\n",
    "                 \"neighbour\":\"neighbor\",\\\n",
    "                 \"favourite\":\"favorite\",\\\n",
    "                 \"centre\":\"center\",\\\n",
    "                 \"fibre\":\"fiber\",\\\n",
    "                 \"litre\":\"liter\",\\\n",
    "                 \"theatre\":\"theater\",\\\n",
    "                 \"organise\":\"organize\",\\\n",
    "                 \"recognise\":\"recognize\",\\\n",
    "                 \"realise\":\"realize\",\\\n",
    "                 \"civilisation\":\"civilization\",\\\n",
    "                 \"analyse\":\"analyze\",\\\n",
    "                 \"defence\":\"defense\",\\\n",
    "                 \"offence\":\"offense\",\\\n",
    "                 \"licence\":\"license\",\\\n",
    "                 \"mum\":\"mom\",\\\n",
    "                 \"arsehole\":\"asshole\",\\\n",
    "                 \"tenner\":'ten',\\\n",
    "                 \"lads\":\"guys\",\\\n",
    "                 \"quid\":\"buck\",\\\n",
    "                 \"telly\":\"TV\",\\\n",
    "                 \" loo \": \"bathroom \",\\\n",
    "                 \" loo.\":\" bathroom.\",\\\n",
    "                 \"wanker \":\"bastard \",\\\n",
    "                 \"wanking \":\"screwing \",\\\n",
    "                 \"tits\":\"boobs\",\\\n",
    "                 \"wank \":\"bastard \",\\\n",
    "                 \"pint\":\"beer\",\\\n",
    "                 \"prick\":\"dick\",\\\n",
    "                 \"snog\":\"kiss\",\\\n",
    "                 \"crisps\":\"fries\",\\\n",
    "                 \"lazer\":\"laser\",\\\n",
    "                 \"twat\":\"jerk\",\n",
    "                 \"shag\":\"screw\"\\\n",
    "                 \n",
    "                }\n",
    "    for i in replace_dic.keys():\n",
    "        x=x.replace(i,replace_dic[i])\n",
    "    return x\n"
   ]
  },
  {
   "cell_type": "markdown",
   "metadata": {},
   "source": [
    "And I'm going to use a TF-IDF transformation to idnetify words that are common to one category but not the other (likely to be proper nouns)"
   ]
  },
  {
   "cell_type": "code",
   "execution_count": 112,
   "metadata": {
    "collapsed": true
   },
   "outputs": [],
   "source": [
    "from sklearn.feature_extraction.text import TfidfVectorizer"
   ]
  },
  {
   "cell_type": "code",
   "execution_count": 10,
   "metadata": {
    "collapsed": false
   },
   "outputs": [
    {
     "name": "stdout",
     "output_type": "stream",
     "text": [
      "New Words for TF-IDF=1\n",
      "[[u'dwight']]\n",
      "New Words for TF-IDF=21\n",
      "[u'angela', u'cos', u'darryl', u'dobby', u'dunder', u'erin', u'gabe', u'gareth', u'jez', u'kelly', u'kevin', u'mifflin', u'phyllis', u'schrute', u'scranton', u'soph', u'sophie', u'stanley', u'suze', u'toby']\n",
      "New Words for TF-IDF=41\n",
      "[u'angus', u'arse', u'bollocks', u'cece', u'cock', u'corrigan', u'elena', u'fucked', u'gail', u'gerard', u'halpert', u'holly', u'ian', u'jo', u'mose', u'nellie', u'philly', u'sabre', u'scott', u'senator']\n",
      "New Words for TF-IDF=61\n",
      "[u'bloke', u'bullshit', u'california', u'ceo', u'deangelo', u'dobs', u'employee', u'erm', u'jlb', u'learned', u'lice', u'loads', u'mall', u'mural', u'packer', u'sarah', u'todd', u'toni', u'val', u'zahra']\n",
      "New Words for TF-IDF=81\n",
      "[u'blimey', u'dickhead', u'dundies', u'halloween', u'hay', u'lager', u'lf', u'luke', u'named', u'paedo', u'pennsylvania', u'phillip', u'printers', u'sofa', u'sorted', u'strangler', u'swindon', u'tallahassee', u'truck', u'wuphf']\n",
      "New Words for TF-IDF=101\n",
      "[u'accounting', u'angelo', u'barbara', u'bout', u'bunker', u'cottage', u'cupcakes', u'finch', u'foz', u'frankfurt', u'gotten', u'kenneth', u'lame', u'nard', u'nim', u'oggy', u'pens', u'reckon', u'sally', u'stag']\n",
      "New Words for TF-IDF=121\n",
      "[u'aberdeen', u'administrator', u'annex', u'beet', u'belsnickel', u'broccoli', u'cally', u'cathy', u'cornell', u'daryl', u'helene', u'hogg', u'plant', u'potatoes', u'quiz', u'raises', u'sectioned', u'shitting', u'treasure', u'wernham']\n",
      "New Words for TF-IDF=141\n",
      "[u'aj', u'barney', u'cappella', u'corfu', u'dicks', u'gerrard', u'gifts', u'glee', u'keith', u'natalie', u'parkour', u'password', u'plop', u'ravi', u'redundancies', u'salesmen', u'sweeney', u'threesome', u'urgh', u'wanker']\n",
      "New Words for TF-IDF=161\n",
      "[u'anytime', u'bleep', u'dooby', u'doof', u'elevator', u'farms', u'gog', u'jaws', u'jr', u'limo', u'lipton', u'mexico', u'owner', u'paperwork', u'pasta', u'philadelphia', u'redundancy', u'saz', u'tacos', u'trash']\n",
      "New Words for TF-IDF=181\n",
      "[u'award', u'bam', u'bongo', u'ciao', u'cupboard', u'finchy', u'fucker', u'gum', u'gunny', u'honda', u'hudson', u'jordan', u'keenan', u'mikanos', u'na', u'recyclops', u'saber', u'soldier', u'thay', u'walter']\n",
      "New Words for TF-IDF=201\n",
      "[u'39', u'bog', u'com', u'gettysburg', u'grain', u'hippy', u'isabel', u'jones', u'kapoor', u'lan', u'nance', u'napoleon', u'nate', u'oui', u'resume', u'rumor', u'shabooya', u'temperature', u'valerie', u'yo']\n",
      "New Words for TF-IDF=221\n",
      "[u'bennett', u'bloggers', u'brandon', u'counseling', u'einsteins', u'exclaims', u'heather', u'ive', u'justine', u'lasagne', u'maternity', u'nicked', u'nursery', u'pamela', u'savage', u'snap', u'washington', u'yell', u'yoko', u'zeus']\n",
      "New Words for TF-IDF=241\n",
      "[u'athlead', u'behavior', u'cameras', u'camilla', u'cheat', u'cupcake', u'disabled', u'ew', u'expert', u'gah', u'grayson', u'iq', u'jada', u'orgazoid', u'pregnancy', u'prices', u'shirley', u'soy', u'stalin', u'vp']\n",
      "New Words for TF-IDF=261\n",
      "[u'bands', u'barber', u'beesly', u'blake', u'coin', u'computron', u'cordray', u'courthouse', u'cynthia', u'dildo', u'godl', u'grotti', u'kol', u'limits', u'ls', u'mallard', u'nashua', u'oliver', u'palmer', u'recipe']\n",
      "New Words for TF-IDF=281\n",
      "[u'bong', u'burglar', u'cleared', u'dartmouth', u'eva', u'flenderson', u'grandfather', u'hairy', u'hannon', u'juggling', u'kay', u'limitless', u'lobby', u'malcolm', u'marco', u'philbin', u'rolf', u'uk', u'vacation', u'worries']\n",
      "New Words for TF-IDF=301\n",
      "[u'bastards', u'blockbusters', u'chlamydia', u'columbus', u'cooler', u'dank', u'doin', u'doubts', u'duvet', u'fancied', u'foam', u'kettering', u'ms', u'nutter', u'psyched', u'quantocks', u'shrute', u'weapons', u'yoruba', u'zara']\n"
     ]
    }
   ],
   "source": [
    "tfidf_words=[]\n",
    "for j in range(1,302,20):\n",
    "    tfidf_vectorizer = TfidfVectorizer(max_df=0.95, min_df=1,\n",
    "                                       max_features=j,\n",
    "                                       stop_words='english')\n",
    "\n",
    "    tfidf_values=tfidf_vectorizer.fit_transform([' '.join(us_data), \\\n",
    "                                             ' '.join(uk_data)]\n",
    "                                           )\n",
    "    tfidf_words.append(tfidf_vectorizer.get_feature_names())\n",
    "    \n",
    "    print 'New Words for TF-IDF='+str(j)\n",
    "    if len(tfidf_words)>1:\n",
    "        print [i for i in tfidf_words[-1] if i not in tfidf_words[-2]]\n",
    "    else:\n",
    "        print tfidf_words\n",
    "    "
   ]
  },
  {
   "cell_type": "markdown",
   "metadata": {},
   "source": [
    "Ok so we start off strong with names and then there's a mix of proper nouns and various particular terms. I'm going to remove the all words in the first 100 and then the proper nouns in the 100-300."
   ]
  },
  {
   "cell_type": "code",
   "execution_count": 43,
   "metadata": {
    "collapsed": true
   },
   "outputs": [],
   "source": [
    "# will need to revise this by hand if update data\n",
    "pronouns=['cornell','keenan','tallahassee','paula','philadelphia ','shirley','todd', \\\n",
    "          'valerie','aberdeen','brandon','athlead','blake','camilla','nick','orgazoid', \\\n",
    "          'rolf','strangler','columbus','dave','obama','binghamton','drake','enya','beesly','iris', \\\n",
    "          'justine','nelson','bez','eva','bristol','lamar','nate','walter','anton','bertram','gerrard' \\\n",
    "          ,'oliver','norris','robert','michael','scott','pbs','barney','daryl','glee','keith','ravi', \\\n",
    "          'sarah','sweeney','lipton','natalie','nance','jordan','heather','malcolm', \\\n",
    "          'kapoor','hastings','jim','jeremy','andy','nashua','steffan','hannon', \\\n",
    "         'cally','helene','corfu','saz','mikanos','gettysburg','isabel','dartmouth','joshy']\n",
    "\n",
    "words_to_remove=tfidf_words[5]+pronouns"
   ]
  },
  {
   "cell_type": "code",
   "execution_count": 12,
   "metadata": {
    "collapsed": false
   },
   "outputs": [],
   "source": [
    "from spacy.en import English\n",
    "nlp = English()"
   ]
  },
  {
   "cell_type": "code",
   "execution_count": 13,
   "metadata": {
    "collapsed": false
   },
   "outputs": [],
   "source": [
    "def proc_text(curr_data,words_to_remove):\n",
    "    parsed_data = nlp(curr_data)\n",
    "    lemma_data=[w.lemma_ for w in parsed_data if (w.pos_!='PUNCT' and w.pos_!='NUM' and w.pos_!='SPACE')]\n",
    "    rem_data=['xxNamexx' if w in words_to_remove else w for w in lemma_data]\n",
    "    return rem_data"
   ]
  },
  {
   "cell_type": "code",
   "execution_count": 14,
   "metadata": {
    "collapsed": false
   },
   "outputs": [],
   "source": [
    "us_data_proc=[' '.join(proc_text(doc,words_to_remove)) for doc in us_data]\n",
    "uk_data_proc=[' '.join(proc_text(doc,words_to_remove)) for doc in uk_data]"
   ]
  },
  {
   "cell_type": "markdown",
   "metadata": {},
   "source": [
    "And now uk/us_data_proc contains the text with the show-specific words replaced by xxNamexx"
   ]
  },
  {
   "cell_type": "markdown",
   "metadata": {},
   "source": [
    "# 3. Data formatting"
   ]
  },
  {
   "cell_type": "markdown",
   "metadata": {},
   "source": [
    "Now turn these texts into numbers that the algorithm can actually use. I'm going to use the CountVectorize function to find the 5000 most frequent words to use."
   ]
  },
  {
   "cell_type": "code",
   "execution_count": 15,
   "metadata": {
    "collapsed": true
   },
   "outputs": [],
   "source": [
    "from sklearn.feature_extraction.text import CountVectorizer"
   ]
  },
  {
   "cell_type": "code",
   "execution_count": 16,
   "metadata": {
    "collapsed": false
   },
   "outputs": [],
   "source": [
    "n_features=5000\n",
    "tf_vectorizer = CountVectorizer(min_df=2,max_features=n_features,stop_words='english')\n",
    "tf_vectorizer.fit(us_data_proc+uk_data_proc)\n",
    "tf_words=tf_vectorizer.get_feature_names()\n",
    "freqs=np.reshape(np.asarray(np.mean(tf_vectorizer.transform(us_data_proc+uk_data_proc),axis=0)),(n_features,))\n",
    "tf_words=[j[0] for j in sorted([i for i in zip(tf_words,freqs)],key=lambda x:x[1])[::-1]]"
   ]
  },
  {
   "cell_type": "markdown",
   "metadata": {},
   "source": [
    "The section below will turn each word in the top 5000 into a number corresponding to its ranked frequency"
   ]
  },
  {
   "cell_type": "code",
   "execution_count": 17,
   "metadata": {
    "collapsed": false
   },
   "outputs": [],
   "source": [
    "num_vec_us_fname='num_vec_data_us.pkl'\n",
    "if not os.path.exists(num_vec_us_fname):\n",
    "    us_data_vec=[[tf_words.index(w)+1 for w in proc_text(doc,words_to_remove) if w in tf_words] for doc in us_data]\n",
    "    with open(num_vec_us_fname,'wb') as f:\n",
    "        pkl.dump(us_data_vec,f)\n",
    "else:\n",
    "    with open(num_vec_us_fname,'rb') as f:\n",
    "        us_data_vec=pkl.load(f)    "
   ]
  },
  {
   "cell_type": "code",
   "execution_count": 18,
   "metadata": {
    "collapsed": true
   },
   "outputs": [],
   "source": [
    "num_vec_uk_fname='num_vec_data_uk.pkl'\n",
    "if not os.path.exists(num_vec_uk_fname):\n",
    "    uk_data_vec=[[tf_words.index(w)+1 for w in proc_text(doc,words_to_remove) if w in tf_words] for doc in uk_data]\n",
    "    with open(num_vec_uk_fname,'wb') as f:\n",
    "        pkl.dump(uk_data_vec,f)\n",
    "else:\n",
    "    with open(num_vec_uk_fname,'rb') as f:\n",
    "        uk_data_vec=pkl.load(f)"
   ]
  },
  {
   "cell_type": "markdown",
   "metadata": {
    "collapsed": true
   },
   "source": [
    "And this section will divide the transcripts into sections about **parse_size** words. It'll also create the class labels, such that UK=1, US=0"
   ]
  },
  {
   "cell_type": "code",
   "execution_count": 19,
   "metadata": {
    "collapsed": false
   },
   "outputs": [],
   "source": [
    "x_data=[]\n",
    "y_data=[]\n",
    "\n",
    "for doc in us_data_vec:\n",
    "    win_range=range(0,len(doc),parse_size)+[len(doc)]\n",
    "    for i in range(0,len(win_range)-1):\n",
    "        x_data.append(doc[win_range[i]:win_range[i+1]])\n",
    "        y_data.append(0)\n",
    "\n",
    "for doc in uk_data_vec:\n",
    "    win_range=range(0,len(doc),parse_size)+[len(doc)]\n",
    "    for i in range(0,len(win_range)-1):\n",
    "        x_data.append(doc[win_range[i]:win_range[i+1]])\n",
    "        y_data.append(1)"
   ]
  },
  {
   "cell_type": "code",
   "execution_count": 20,
   "metadata": {
    "collapsed": false
   },
   "outputs": [
    {
     "name": "stdout",
     "output_type": "stream",
     "text": [
      "0.461105904405\n",
      "1067\n"
     ]
    }
   ],
   "source": [
    "print np.mean(y_data)\n",
    "print len(x_data)"
   ]
  },
  {
   "cell_type": "markdown",
   "metadata": {},
   "source": [
    "Finally, this section will just make sure each sequence is the same length"
   ]
  },
  {
   "cell_type": "code",
   "execution_count": 21,
   "metadata": {
    "collapsed": false
   },
   "outputs": [
    {
     "name": "stderr",
     "output_type": "stream",
     "text": [
      "Using TensorFlow backend.\n"
     ]
    }
   ],
   "source": [
    "from keras.preprocessing import sequence"
   ]
  },
  {
   "cell_type": "code",
   "execution_count": 22,
   "metadata": {
    "collapsed": true
   },
   "outputs": [],
   "source": [
    "max_review_length=max([len(i) for i in x_data])\n",
    "x_data2 = sequence.pad_sequences(x_data, maxlen=max_review_length)"
   ]
  },
  {
   "cell_type": "markdown",
   "metadata": {},
   "source": [
    "# 4. Train models"
   ]
  },
  {
   "cell_type": "markdown",
   "metadata": {},
   "source": [
    "## LSTM models"
   ]
  },
  {
   "cell_type": "code",
   "execution_count": 25,
   "metadata": {
    "collapsed": true
   },
   "outputs": [],
   "source": [
    "from keras.models import Sequential\n",
    "from keras.layers import Dense\n",
    "from keras.layers import LSTM\n",
    "from keras.layers import Dropout\n",
    "from keras.layers.embeddings import Embedding"
   ]
  },
  {
   "cell_type": "code",
   "execution_count": 24,
   "metadata": {
    "collapsed": true
   },
   "outputs": [],
   "source": [
    "from sklearn.cross_validation import train_test_split"
   ]
  },
  {
   "cell_type": "code",
   "execution_count": 30,
   "metadata": {
    "collapsed": true
   },
   "outputs": [],
   "source": [
    "X_train,X_test,y_train,y_test=train_test_split(x_data2,y_data)"
   ]
  },
  {
   "cell_type": "markdown",
   "metadata": {},
   "source": [
    "## One layer model"
   ]
  },
  {
   "cell_type": "markdown",
   "metadata": {},
   "source": [
    "First I'm going to try out a single layer model with dropout. This model should be able to exploit any sequential dependencies that are useful for classify transcripts."
   ]
  },
  {
   "cell_type": "code",
   "execution_count": 37,
   "metadata": {
    "collapsed": false
   },
   "outputs": [
    {
     "name": "stdout",
     "output_type": "stream",
     "text": [
      "____________________________________________________________________________________________________\n",
      "Layer (type)                     Output Shape          Param #     Connected to                     \n",
      "====================================================================================================\n",
      "embedding_6 (Embedding)          (None, 200, 32)       160032      embedding_input_6[0][0]          \n",
      "____________________________________________________________________________________________________\n",
      "dropout_13 (Dropout)             (None, 200, 32)       0           embedding_6[0][0]                \n",
      "____________________________________________________________________________________________________\n",
      "lstm_8 (LSTM)                    (None, 100)           53200       dropout_13[0][0]                 \n",
      "____________________________________________________________________________________________________\n",
      "dropout_14 (Dropout)             (None, 100)           0           lstm_8[0][0]                     \n",
      "____________________________________________________________________________________________________\n",
      "dense_6 (Dense)                  (None, 1)             101         dropout_14[0][0]                 \n",
      "====================================================================================================\n",
      "Total params: 213333\n",
      "____________________________________________________________________________________________________\n",
      "None\n",
      "Train on 800 samples, validate on 267 samples\n",
      "Epoch 1/8\n",
      "800/800 [==============================] - 16s - loss: 0.6725 - acc: 0.5538 - val_loss: 0.5155 - val_acc: 0.8464\n",
      "Epoch 2/8\n",
      "800/800 [==============================] - 13s - loss: 0.5736 - acc: 0.7263 - val_loss: 0.6487 - val_acc: 0.6404\n",
      "Epoch 3/8\n",
      "800/800 [==============================] - 13s - loss: 0.4821 - acc: 0.8250 - val_loss: 0.3560 - val_acc: 0.9401\n",
      "Epoch 4/8\n",
      "800/800 [==============================] - 13s - loss: 0.3757 - acc: 0.8875 - val_loss: 0.2826 - val_acc: 0.9625\n",
      "Epoch 5/8\n",
      "800/800 [==============================] - 13s - loss: 0.3275 - acc: 0.9275 - val_loss: 0.3735 - val_acc: 0.8689\n",
      "Epoch 6/8\n",
      "800/800 [==============================] - 13s - loss: 0.3774 - acc: 0.8663 - val_loss: 0.2965 - val_acc: 0.9363\n",
      "Epoch 7/8\n",
      "800/800 [==============================] - 13s - loss: 0.3039 - acc: 0.9387 - val_loss: 0.2775 - val_acc: 0.9213\n",
      "Epoch 8/8\n",
      "800/800 [==============================] - 13s - loss: 0.2748 - acc: 0.9237 - val_loss: 0.2673 - val_acc: 0.9251\n"
     ]
    },
    {
     "data": {
      "text/plain": [
       "<keras.callbacks.History at 0x1953bfad0>"
      ]
     },
     "execution_count": 37,
     "metadata": {},
     "output_type": "execute_result"
    }
   ],
   "source": [
    "embedding_vecor_length = 32\n",
    "model_single = Sequential()\n",
    "model_single.add(Embedding(n_features+1, embedding_vecor_length, input_length=max_review_length))\n",
    "model_single.add(Dropout(0.2))\n",
    "model_single.add(LSTM(100))\n",
    "model_single.add(Dropout(0.2))\n",
    "model_single.add(Dense(1, activation='sigmoid'))\n",
    "model_single.compile(loss='binary_crossentropy', optimizer='adam', metrics=['accuracy'])\n",
    "\n",
    "print(model_single.summary())\n",
    "model_single.fit(X_train, y_train, validation_data=(X_test, y_test), nb_epoch=8, batch_size=64)"
   ]
  },
  {
   "cell_type": "code",
   "execution_count": 67,
   "metadata": {
    "collapsed": false
   },
   "outputs": [
    {
     "name": "stdout",
     "output_type": "stream",
     "text": [
      "Single-Layer Model Accuracy\n",
      "Accuracy: 92.51%\n"
     ]
    }
   ],
   "source": [
    "# Final evaluation of the model\n",
    "scores = model_single.evaluate(X_test, y_test, verbose=0)\n",
    "print 'Single-Layer Model Accuracy'\n",
    "print(\"Accuracy: %.2f%%\" % (scores[1]*100))"
   ]
  },
  {
   "cell_type": "markdown",
   "metadata": {},
   "source": [
    "The one layer model has pretty good accuracy! Let's try out two layers to see if there's information in longer-term depenencies."
   ]
  },
  {
   "cell_type": "markdown",
   "metadata": {},
   "source": [
    "## Two layer stacked model"
   ]
  },
  {
   "cell_type": "code",
   "execution_count": 33,
   "metadata": {
    "collapsed": false
   },
   "outputs": [
    {
     "name": "stdout",
     "output_type": "stream",
     "text": [
      "____________________________________________________________________________________________________\n",
      "Layer (type)                     Output Shape          Param #     Connected to                     \n",
      "====================================================================================================\n",
      "embedding_4 (Embedding)          (None, 200, 32)       160032      embedding_input_4[0][0]          \n",
      "____________________________________________________________________________________________________\n",
      "dropout_8 (Dropout)              (None, 200, 32)       0           embedding_4[0][0]                \n",
      "____________________________________________________________________________________________________\n",
      "lstm_5 (LSTM)                    (None, 200, 100)      53200       dropout_8[0][0]                  \n",
      "____________________________________________________________________________________________________\n",
      "dropout_9 (Dropout)              (None, 200, 100)      0           lstm_5[0][0]                     \n",
      "____________________________________________________________________________________________________\n",
      "lstm_6 (LSTM)                    (None, 100)           80400       dropout_9[0][0]                  \n",
      "____________________________________________________________________________________________________\n",
      "dropout_10 (Dropout)             (None, 100)           0           lstm_6[0][0]                     \n",
      "____________________________________________________________________________________________________\n",
      "dense_4 (Dense)                  (None, 1)             101         dropout_10[0][0]                 \n",
      "====================================================================================================\n",
      "Total params: 293733\n",
      "____________________________________________________________________________________________________\n",
      "None\n",
      "Train on 800 samples, validate on 267 samples\n",
      "Epoch 1/8\n",
      "800/800 [==============================] - 35s - loss: 0.6837 - acc: 0.5450 - val_loss: 0.5920 - val_acc: 0.8202\n",
      "Epoch 2/8\n",
      "800/800 [==============================] - 31s - loss: 0.3588 - acc: 0.8825 - val_loss: 0.2063 - val_acc: 0.9401\n",
      "Epoch 3/8\n",
      "800/800 [==============================] - 32s - loss: 0.1570 - acc: 0.9550 - val_loss: 0.1197 - val_acc: 0.9663\n",
      "Epoch 4/8\n",
      "800/800 [==============================] - 32s - loss: 0.0577 - acc: 0.9825 - val_loss: 0.1564 - val_acc: 0.9625\n",
      "Epoch 5/8\n",
      "800/800 [==============================] - 29s - loss: 0.0521 - acc: 0.9875 - val_loss: 0.1323 - val_acc: 0.9513\n",
      "Epoch 6/8\n",
      "800/800 [==============================] - 29s - loss: 0.0241 - acc: 0.9950 - val_loss: 0.1283 - val_acc: 0.9663\n",
      "Epoch 7/8\n",
      "800/800 [==============================] - 28s - loss: 0.0441 - acc: 0.9862 - val_loss: 0.3452 - val_acc: 0.8914\n",
      "Epoch 8/8\n",
      "800/800 [==============================] - 35s - loss: 0.0591 - acc: 0.9862 - val_loss: 0.1724 - val_acc: 0.9551\n"
     ]
    },
    {
     "data": {
      "text/plain": [
       "<keras.callbacks.History at 0x18e20b350>"
      ]
     },
     "execution_count": 33,
     "metadata": {},
     "output_type": "execute_result"
    }
   ],
   "source": [
    "embedding_vecor_length = 32\n",
    "model_stack = Sequential()\n",
    "model_stack.add(Embedding(n_features+1, embedding_vecor_length, input_length=max_review_length))\n",
    "model_stack.add(Dropout(0.2))\n",
    "model_stack.add(LSTM(100,return_sequences=True, input_shape=(max_review_length, n_features+1)))\n",
    "model_stack.add(Dropout(0.2))\n",
    "model_stack.add(LSTM(100))\n",
    "model_stack.add(Dropout(0.2))\n",
    "model_stack.add(Dense(1, activation='sigmoid'))\n",
    "model_stack.compile(loss='binary_crossentropy', optimizer='adam', metrics=['accuracy'])\n",
    "\n",
    "print(model_stack.summary())\n",
    "model_stack.fit(X_train, y_train, validation_data=(X_test, y_test), nb_epoch=8, batch_size=64)"
   ]
  },
  {
   "cell_type": "code",
   "execution_count": 68,
   "metadata": {
    "collapsed": false
   },
   "outputs": [
    {
     "name": "stdout",
     "output_type": "stream",
     "text": [
      "Two-Layer Model Accuracy\n",
      "Accuracy: 95.51%\n"
     ]
    }
   ],
   "source": [
    "# Final evaluation of the model\n",
    "scores = model_stack.evaluate(X_test, y_test, verbose=0)\n",
    "print 'Two-Layer Model Accuracy'\n",
    "print(\"Accuracy: %.2f%%\" % (scores[1]*100))"
   ]
  },
  {
   "cell_type": "markdown",
   "metadata": {},
   "source": [
    "The two-layer LSTM performs marginally more accurately, though performance was already pretty high. It may be worth testing out some other architectures (another layer, different number of hidden nodes), but given that this network is doing pretty damn good, let's test the models out on some novel data to see whether there are more salient differences."
   ]
  },
  {
   "cell_type": "markdown",
   "metadata": {
    "collapsed": true
   },
   "source": [
    "# 5. Classifying new data"
   ]
  },
  {
   "cell_type": "markdown",
   "metadata": {},
   "source": [
    "Let's test the networks on two shows that were also made by the creators of The US and UK Offices, respectively: Parks and Recreation and Extras"
   ]
  },
  {
   "cell_type": "code",
   "execution_count": 57,
   "metadata": {
    "collapsed": false
   },
   "outputs": [],
   "source": [
    "# run on individual strings\n",
    "def clean_text(text,pn,tf_words):\n",
    "    # Takes in text, tokenizes, replaces proper nouns in pn with xxNamexx, lower cases, lemmatizes and encodes\n",
    "    # as numeric using tf_words\n",
    "    text=text.lower()\n",
    "    return [tf_words.index(w)+1 for w in proc_text(text,pn) if w in tf_words]"
   ]
  },
  {
   "cell_type": "code",
   "execution_count": 39,
   "metadata": {
    "collapsed": true
   },
   "outputs": [],
   "source": [
    "test_folders=['parks_rec','extras']\n",
    "test_data=[]\n",
    "test_show=[]\n",
    "for fold_name in test_folders:\n",
    "    test_fold=os.path.join('data',fold_name)\n",
    "    curr_files=os.listdir(test_fold)\n",
    "    curr_files=[i for i in curr_files if i[-3:]=='txt']    \n",
    "    for fname in curr_files:\n",
    "        curr_fname=os.path.join(test_fold,fname)\n",
    "        with open(curr_fname,'rb') as curr_f:\n",
    "            temp=replace_strings(curr_f.read().lower())\n",
    "            test_curr_text=unicode(temp.decode('utf-8'))\n",
    "            test_show.append(fold_name)\n",
    "            test_data.append(test_curr_text)"
   ]
  },
  {
   "cell_type": "markdown",
   "metadata": {},
   "source": [
    "Define show specific names to turn into xxnamexx, so the vectorizer recognizes them"
   ]
  },
  {
   "cell_type": "code",
   "execution_count": 54,
   "metadata": {
    "collapsed": true
   },
   "outputs": [],
   "source": [
    "parks_rec_pn=['pawnee','washington','leslie','knope','tom','haverford','ron','swanson','april','ludgate', \\\n",
    "             'andy','dwyer','ben','wyatt','jerry','gergich','ken','donna','meagle','johnny','gryzzl','sweetums', \\\n",
    "              'ann','perkins','chris','traeger','diane','craig','middlebrooks','lucy','jean-ralphio','perd', \\\n",
    "              'jeremy','jamm','sapperstein','joe','ethel','levondrius' \\\n",
    "             ]\n",
    "\n",
    "extra_pn=['andy','millman','maggie','jacobs','darren','lamb','barry','greg','lindley-jones','bbc','robert','ross' \\\n",
    "         ,'ben','eastenders','johnny','damon','ronnie','corbett','john','paul','jackson','fran','shaun','joe', \\\n",
    "          'david','richard','jackie','michael','maureen'\n",
    "         ]\n",
    "\n",
    "test_pn={'parks_rec':parks_rec_pn,'extras':extra_pn}"
   ]
  },
  {
   "cell_type": "code",
   "execution_count": 84,
   "metadata": {
    "collapsed": false
   },
   "outputs": [],
   "source": [
    "test_x_data=[]\n",
    "test_episode=[]\n",
    "test_y_data=[]\n",
    "for i,show_name in enumerate(test_show):\n",
    "    test_data_vec=clean_text(test_data[i],test_pn[show_name],tf_words)\n",
    "\n",
    "    win_range=range(0,len(test_data_vec),parse_size)+[len(doc)]\n",
    "    for j in range(0,len(win_range)-1):\n",
    "        test_x_data.append(test_data_vec[win_range[j]:win_range[j+1]])\n",
    "        if show_name=='parks_rec':\n",
    "            test_y_data.append(0)\n",
    "        else:\n",
    "            test_y_data.append(1)\n",
    "        test_episode.append(show_name+str(i))"
   ]
  },
  {
   "cell_type": "code",
   "execution_count": 65,
   "metadata": {
    "collapsed": true
   },
   "outputs": [],
   "source": [
    "max_review_length=max([len(i) for i in test_x_data])\n",
    "test_x_data2 = sequence.pad_sequences(test_x_data, maxlen=max_review_length)"
   ]
  },
  {
   "cell_type": "code",
   "execution_count": 66,
   "metadata": {
    "collapsed": false
   },
   "outputs": [
    {
     "name": "stdout",
     "output_type": "stream",
     "text": [
      "Single-Layer Model Accuracy\n",
      "Accuracy: 66.87%\n",
      "Two-Layer Model Accuracy\n",
      "Accuracy: 86.75%\n"
     ]
    }
   ],
   "source": [
    "scores = model_single.evaluate(test_x_data2, test_y_data, verbose=0)\n",
    "print 'Single-Layer Model Accuracy'\n",
    "print(\"Accuracy: %.2f%%\" % (scores[1]*100))\n",
    "\n",
    "scores = model_stack.evaluate(test_x_data2, test_y_data, verbose=0)\n",
    "print 'Two-Layer Model Accuracy'\n",
    "print(\"Accuracy: %.2f%%\" % (scores[1]*100))"
   ]
  },
  {
   "cell_type": "markdown",
   "metadata": {},
   "source": [
    "Whereas the Two-Layer model was previously *slightly* better than the One-Layer model, taking longer-term sequential dependencies into account really helped it capture more general notions of British and American humor. Let's also see how well the networks estimated the probability of episodes being American or British"
   ]
  },
  {
   "cell_type": "code",
   "execution_count": 71,
   "metadata": {
    "collapsed": false
   },
   "outputs": [
    {
     "name": "stdout",
     "output_type": "stream",
     "text": [
      "166/166 [==============================] - 1s     \n",
      "166/166 [==============================] - 2s     \n"
     ]
    }
   ],
   "source": [
    "single_test_proba = model_single.predict_proba(test_x_data2)\n",
    "double_test_proba = model_stack.predict_proba(test_x_data2)"
   ]
  },
  {
   "cell_type": "code",
   "execution_count": 110,
   "metadata": {
    "collapsed": false
   },
   "outputs": [
    {
     "data": {
      "text/plain": [
       "<matplotlib.text.Text at 0x1aa82a890>"
      ]
     },
     "execution_count": 110,
     "metadata": {},
     "output_type": "execute_result"
    },
    {
     "data": {
      "image/png": "[encoded data removed]",
      "text/plain": [
       "<matplotlib.figure.Figure at 0x1aa663a10>"
      ]
     },
     "metadata": {},
     "output_type": "display_data"
    }
   ],
   "source": [
    "single_df=pd.DataFrame({'proba':np.reshape(single_test_proba,len(single_test_proba),1), \\\n",
    "                        'episode':test_episode,'show':test_y_data})\n",
    "single_df.groupby('episode').mean().boxplot(column='proba',by='show')\n",
    "plt.ylabel('Probability British (vs. American)')\n",
    "plt.xticks(range(1,3),['Parks & Rec','Extras'])\n",
    "plt.title('Classifying New American and British Shows (One Layer)')"
   ]
  },
  {
   "cell_type": "markdown",
   "metadata": {},
   "source": [
    "The One-Layer model does a decent job at recognizing Parks and Rec is American and Extras is British. But there are some huge interquartile ranges for Extras. Let's see how the Two-Layer model does."
   ]
  },
  {
   "cell_type": "code",
   "execution_count": 111,
   "metadata": {
    "collapsed": false
   },
   "outputs": [
    {
     "data": {
      "text/plain": [
       "<matplotlib.text.Text at 0x1aa9ec110>"
      ]
     },
     "execution_count": 111,
     "metadata": {},
     "output_type": "execute_result"
    },
    {
     "data": {
      "image/png": "[encoded data removed]",
      "text/plain": [
       "<matplotlib.figure.Figure at 0x1aa8193d0>"
      ]
     },
     "metadata": {},
     "output_type": "display_data"
    }
   ],
   "source": [
    "double_df=pd.DataFrame({'proba':np.reshape(double_test_proba,len(double_test_proba),1), \\\n",
    "                        'episode':test_episode,'show':test_y_data})\n",
    "double_df.groupby('episode').mean().boxplot(column='proba',by='show')\n",
    "plt.ylabel('Probability British (vs. American)')\n",
    "plt.xticks(range(1,3),['Parks & Rec','Extras'])\n",
    "plt.title('Classifying New American and British Shows (Two Layer)')"
   ]
  },
  {
   "cell_type": "markdown",
   "metadata": {},
   "source": [
    "The Two-Layer model does a much better job at distinguishing British and American humor. The substantial improvement brought by adding the second LSTM layer suggests that long-term dependencies really help distinguish which shows are British and which are American (and not just vocabulary or word-to-word conditional probabilities)."
   ]
  },
  {
   "cell_type": "markdown",
   "metadata": {},
   "source": [
    "# Does it generalize?"
   ]
  },
  {
   "cell_type": "markdown",
   "metadata": {},
   "source": [
    "Finally, let's make sure I didn't just create a network that can only distinguish the works of Mark Schur and Ricky Gervais (although that in itself would perhaps have some usefulness). For this I'm going to try to classify Friends and Fawlty Towers as British and American."
   ]
  },
  {
   "cell_type": "code",
   "execution_count": 146,
   "metadata": {
    "collapsed": true
   },
   "outputs": [],
   "source": [
    "test2_folders=['fawlty_towers','friends']\n",
    "test2_data=[]\n",
    "test2_show=[]\n",
    "for fold_name in test_folders:\n",
    "    test_fold=os.path.join('data',fold_name)\n",
    "    curr_files=os.listdir(test_fold)\n",
    "    curr_files=[i for i in curr_files if i[-3:]=='txt']    \n",
    "    for fname in curr_files:\n",
    "        curr_fname=os.path.join(test_fold,fname)\n",
    "        with open(curr_fname,'rb') as curr_f:\n",
    "            temp=replace_strings(curr_f.read().lower())\n",
    "            test2_curr_text=unicode(temp.decode('utf-8'))\n",
    "            test2_show.append(fold_name)\n",
    "            test2_data.append(test2_curr_text)"
   ]
  },
  {
   "cell_type": "markdown",
   "metadata": {},
   "source": [
    "Define show specific names to turn into xxnamexx, so the vectorizer recognizes them"
   ]
  },
  {
   "cell_type": "code",
   "execution_count": 147,
   "metadata": {
    "collapsed": true
   },
   "outputs": [],
   "source": [
    "fawlty_pn=['fawlty','basil','sybil','polly','sherman','manuel','terry','hugh','gowen','tibbs','gatsby','audrey',\\\n",
    "          'melbury','reilly','lurphy','stubbs','alan','peignoir','hutchinson','walt','richards','abbott','arrad',\\\n",
    "          'leeman','roger','alice','']\n",
    "\n",
    "friends_pn=['ross','gellar','rachel','monica','phoebe','bouffe','marcel','chandler','bing','joey','tribiani', \\\n",
    "           'mindy','barry','paul','janice','carol','susan','alan','george','stephanopolous','angela','bob', \\\n",
    "           'aurora','jill','goodacre','david','paolo']\n",
    "\n",
    "test2_pn={'fawlty_towers':fawlty_pn,'friends':friends_pn}"
   ]
  },
  {
   "cell_type": "code",
   "execution_count": 148,
   "metadata": {
    "collapsed": false
   },
   "outputs": [],
   "source": [
    "test2_x_data=[]\n",
    "test2_episode=[]\n",
    "test2_y_data=[]\n",
    "for i,show_name in enumerate(test2_show):\n",
    "    test_data_vec=clean_text(test2_data[i],test2_pn[show_name],tf_words)\n",
    "\n",
    "    win_range=range(0,len(test_data_vec),parse_size)+[len(doc)]\n",
    "    for j in range(0,len(win_range)-1):\n",
    "        test2_x_data.append(test_data_vec[win_range[j]:win_range[j+1]])\n",
    "        if show_name=='friends':\n",
    "            test2_y_data.append(0)\n",
    "        else:\n",
    "            test2_y_data.append(1)\n",
    "        test2_episode.append(show_name+str(i))"
   ]
  },
  {
   "cell_type": "code",
   "execution_count": 149,
   "metadata": {
    "collapsed": true
   },
   "outputs": [],
   "source": [
    "max_review_length=max([len(i) for i in test2_x_data])\n",
    "test2_x_data2 = sequence.pad_sequences(test2_x_data, maxlen=max_review_length)"
   ]
  },
  {
   "cell_type": "code",
   "execution_count": 154,
   "metadata": {
    "collapsed": false
   },
   "outputs": [
    {
     "name": "stdout",
     "output_type": "stream",
     "text": [
      "Two-Layer Model Accuracy\n",
      "Accuracy: 95.51%\n"
     ]
    }
   ],
   "source": [
    "double_test2_proba = model_stack.evaluate(test2_x_data2,test2_y_data,verbose=0)\n",
    "print 'Two-Layer Model Accuracy'\n",
    "print(\"Accuracy: %.2f%%\" % (scores[1]*100))"
   ]
  },
  {
   "cell_type": "code",
   "execution_count": 155,
   "metadata": {
    "collapsed": false
   },
   "outputs": [],
   "source": [
    "double_test2_proba = model_stack.predict_proba(test2_x_data2,verbose=0)"
   ]
  },
  {
   "cell_type": "code",
   "execution_count": 157,
   "metadata": {
    "collapsed": false
   },
   "outputs": [
    {
     "data": {
      "text/plain": [
       "<matplotlib.text.Text at 0x116d09c10>"
      ]
     },
     "execution_count": 157,
     "metadata": {},
     "output_type": "execute_result"
    },
    {
     "data": {
      "image/png": "[encoded data removed]",
      "text/plain": [
       "<matplotlib.figure.Figure at 0x1aa91c7d0>"
      ]
     },
     "metadata": {},
     "output_type": "display_data"
    }
   ],
   "source": [
    "double_df=pd.DataFrame({'proba':np.reshape(double_test2_proba,len(double_test2_proba),1), \\\n",
    "                        'episode':test2_episode,'show':test2_y_data})\n",
    "double_df.groupby('episode').mean().boxplot(column='proba',by='show')\n",
    "plt.ylabel('Probability British (vs. American)')\n",
    "plt.xticks(range(1,3),['Friends','Fawlty Towers'])\n",
    "plt.title('Classifying New American and British Shows (Two Layer)')"
   ]
  },
  {
   "cell_type": "markdown",
   "metadata": {},
   "source": [
    "And the Two-Layer network correctly found that Friends was more American and Fawlty Towers was more British! It is worth noting here that there's a bit more uncertainty--these boxplots are much closer to .5 (what you'd expect by random guessing) and their interquartile ranges overlap--But the network is for the most part recognizing that Friends is an American comedy and Fawlty Towers is British!"
   ]
  },
  {
   "cell_type": "markdown",
   "metadata": {},
   "source": [
    "# Wrap up"
   ]
  },
  {
   "cell_type": "markdown",
   "metadata": {},
   "source": [
    "Using a Two-Layer LSTM recurrent neural network trained to distinguish the US and UK versions of The Office, I was able to classify whether a TV show had a British or American sense of humor. I want to emphasize the importance of cleaning and normalizing the original text data; without it, all I would've had was a British slang detector. Anglo/Americano-philes can use my trained network to find TV shows, plays, comedians, etc from other countries that match their sense of humor."
   ]
  }
 ],
 "metadata": {
  "kernelspec": {
   "display_name": "Python 2",
   "language": "python",
   "name": "python2"
  },
  "language_info": {
   "codemirror_mode": {
    "name": "ipython",
    "version": 2
   },
   "file_extension": ".py",
   "mimetype": "text/x-python",
   "name": "python",
   "nbconvert_exporter": "python",
   "pygments_lexer": "ipython2",
   "version": "2.7.12"
  }
 },
 "nbformat": 4,
 "nbformat_minor": 0
}
